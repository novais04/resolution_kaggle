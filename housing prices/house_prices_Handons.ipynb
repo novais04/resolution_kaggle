{
 "cells": [
  {
   "cell_type": "markdown",
   "id": "b61625b3",
   "metadata": {},
   "source": [
    "# House Prices Prediction Usando ML\n",
    "\n",
    "Fonte: Canal Eureca and livro \"Hands-On Machine Learning\" de Aurélien Géron"
   ]
  },
  {
   "cell_type": "code",
   "execution_count": null,
   "id": "cbf31ed2",
   "metadata": {},
   "outputs": [],
   "source": []
  }
 ],
 "metadata": {
  "kernelspec": {
   "display_name": "Python 3 (ipykernel)",
   "language": "python",
   "name": "python3"
  },
  "language_info": {
   "codemirror_mode": {
    "name": "ipython",
    "version": 3
   },
   "file_extension": ".py",
   "mimetype": "text/x-python",
   "name": "python",
   "nbconvert_exporter": "python",
   "pygments_lexer": "ipython3",
   "version": "3.9.6"
  }
 },
 "nbformat": 4,
 "nbformat_minor": 5
}
